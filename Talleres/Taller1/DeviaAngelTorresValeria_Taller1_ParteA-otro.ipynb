{
  "cells": [
    {
      "cell_type": "markdown",
      "metadata": {
        "id": "0Z8Dn_z6Mb9b"
      },
      "source": [
        "# Taller 1 Parte A\n",
        "\n",
        "## Métodos Computacionales 2 2023-10\n",
        "\n",
        "Instrucciones: Suba el jupyter notebook **.ipynb** en la actividad de bloque neon. El archivo debe ser nombrado ApellidoNombreApellidoNombre_Taller1_ParteA.ipynb, con su primer Apellido y Nombre de cada integrante de la pareja. **El archivo debe poder correr en el binder del curso** \n",
        "\n",
        "Si un ejercicio demora **más de 10 segundos** en correr se considerará **incorrecto**.\n",
        "\n",
        "No modifique el cuaderno, ni los modos de lectura de los archivos.\n",
        "\n",
        "**Entrega: Miercoles 19 de Abril 11:59 pm**"
      ]
    },
    {
      "cell_type": "markdown",
      "metadata": {
        "id": "TtDSGwXXOzhk"
      },
      "source": [
        "## Problema 1\n",
        "\n",
        "En el github del curso en la carpeta `Datafiles` se encuentra el archivo `linear.csv` el código a continuación lee el archivo y guarda los valores de $x$ y $y$ en los arrays `x[]` y `y[]`.\n",
        "\n",
        "Para poder leer el archivo el notebook debe estar en la misma carpeta `Datafiles`.\n",
        "\n",
        "Basados en el método de los mínimos cuadrados, se puede ajustar una recta $ y = mx + b$. Donde la pendiente y el punto de corte están dados por, \n",
        "\n",
        "\\begin{equation*}\n",
        "     m = \\frac{E_{xy} - E_x E_y}{E_{xx} - E_x^2}, \\qquad b = \\frac{E_{xx}E_y - E_x E_{xy}}{E_{xx} - E_x^2}\n",
        "\\end{equation*}\n",
        "\n",
        "Donde se definen, \n",
        "\n",
        "$$ E_x = \\frac{1}{n}\\sum_{i=1}^n x_i, \\quad E_y = \\frac{1}{n}\\sum_{i=1}^n y_i, \\quad E_{xx} = \\frac{1}{n}\\sum_{i=1}^n x_i^2, \\quad E_{xy} = \\frac{1}{n}\\sum_{i=1}^n x_iy_i $$\n",
        "\n",
        "Modifique el archivo a continuación de forma que evalúe la pendiente y el punto de corte de los datos, guarde la pendiente en la variable `slope `y el punto de corte en la variable `intercept`. Al final incluya el siguiente `cout` para la evaluación de su ejercicio. \n",
        "\n",
        "`cout << \"Slope = \" << slope << \", Intercept = \" << intercept << endl;`\n",
        "\n",
        "Los valores de la pendiente y el intercepto son números entre 0.5 y 10."
      ]
    },
    {
      "cell_type": "code",
      "execution_count": 25,
      "metadata": {
        "colab": {
          "base_uri": "https://localhost:8080/"
        },
        "id": "cT1p4cpH8fJo",
        "outputId": "ed7114f0-dedc-4086-e7bf-2923ebcdabcc",
        "vscode": {
          "languageId": "python"
        }
      },
      "outputs": [
        {
          "name": "stdout",
          "output_type": "stream",
          "text": [
            "Overwriting regresion.cpp\n"
          ]
        }
      ],
      "source": [
        "%%writefile regresion.cpp\n",
        "\n",
        "#include <stdio.h>\n",
        "#include <stdlib.h>\n",
        "#include <iostream>\n",
        "#include <fstream>\n",
        "#include <sstream>\n",
        "#include <math.h>\n",
        "using namespace std;\n",
        "\n",
        "\n",
        "\n",
        "int main() \n",
        "{\n",
        "    ifstream  data(\"linear.csv\");\n",
        "    string line;\n",
        "    float x[92];\n",
        "    float y[92];\n",
        "    int i = 0;\n",
        "    while(getline(data,line))\n",
        "    {\n",
        "        stringstream lineStream(line);\n",
        "        string cell;\n",
        "        if (i != 0)\n",
        "        {\n",
        "            \n",
        "            while(getline(lineStream,cell,'\\n'))\n",
        "            {\n",
        "                stringstream lineStreamCell(cell);\n",
        "                string cell_data;\n",
        "                int j = 0;\n",
        "                while(getline(lineStreamCell,cell_data,','))\n",
        "                {\n",
        "                    if (j%2 == 0)\n",
        "                    {\n",
        "                        x[i-1] = stof(cell_data);\n",
        "                    }\n",
        "                    else\n",
        "                    {\n",
        "                        y[i-1] = stof(cell_data);\n",
        "                    }\n",
        "                    j++;\n",
        "                }   \n",
        "            }\n",
        "        }\n",
        "        i++;\n",
        "    }\n",
        "    cout << \"x \\n\";\n",
        "    for (int i = 0; i < 92; i++)\n",
        "    {\n",
        "        cout << x[i] << \" \";\n",
        "    }\n",
        "    cout << \"\\n y \\n\";\n",
        "    for (int i = 0; i < 92; i++)\n",
        "    {\n",
        "        cout << y[i] << \" \";\n",
        "    }\n",
        "    cout << endl;\n",
        "\n",
        "    float Ex, Ey, Exx, Exy, slope, intercept;\n",
        "    float suma_x = 0, suma_y = 0, suma_xx = 0, suma_xy = 0;\n",
        "\n",
        "    for (int i=0; i<92; i++) {\n",
        "        suma_x += x[i];\n",
        "        suma_y += y[i];\n",
        "        suma_xx += pow(x[i], 2.0);\n",
        "        suma_xy += x[i]*y[i];\n",
        "    }\n",
        "    Ex = suma_x/92;\n",
        "    Ey = suma_y/92;\n",
        "    Exx = suma_xx/92;\n",
        "    Exy = suma_xy/92;\n",
        "\n",
        "    slope = (Exy - (Ex*Ey)) / (Exx - pow(Ex, 2.0));\n",
        "    intercept = ((Exx*Ey) - (Ex*Exy)) / (Exx - pow(Exx, 2.0));\n",
        "\n",
        "    cout << \"Slope = \" << slope << \", Intercept = \" << intercept << endl;\n",
        "\n",
        "    return 0;\n",
        "}"
      ]
    },
    {
      "cell_type": "code",
      "execution_count": 26,
      "metadata": {
        "colab": {
          "base_uri": "https://localhost:8080/",
          "height": 693
        },
        "id": "zfxv80gGOLZR",
        "outputId": "5a19e083-4a14-418c-cc23-74b381f0ba36",
        "vscode": {
          "languageId": "python"
        }
      },
      "outputs": [
        {
          "name": "stderr",
          "output_type": "stream",
          "text": [
            "regresion.cpp: In function ‘int main()’:\n",
            "regresion.cpp:62:32: error: a function-definition is not allowed here before ‘{’ token\n",
            "   62 |     int Ex(int x[], int n = 92){\n",
            "      |                                ^\n",
            "regresion.cpp:74:32: error: a function-definition is not allowed here before ‘{’ token\n",
            "   74 |     int Ey(int y[], int n = 92){\n",
            "      |                                ^\n",
            "regresion.cpp:86:32: error: a function-definition is not allowed here before ‘{’ token\n",
            "   86 |     int Ex(int x[], int n = 92){\n",
            "      |                                ^\n",
            "regresion.cpp:100:33: error: a function-definition is not allowed here before ‘{’ token\n",
            "  100 |     int Exy(int x[], int n = 92){\n",
            "      |                                 ^\n",
            "regresion.cpp:114:51: error: a function-definition is not allowed here before ‘{’ token\n",
            "  114 |     int pendi (int rEx, int rEy,int rExx,int rExy){\n",
            "      |                                                   ^\n",
            "regresion.cpp:120:56: error: a function-definition is not allowed here before ‘{’ token\n",
            "  120 |     int puntocorte (int rEx, int rEy,int rExx,int rExy){\n",
            "      |                                                        ^\n",
            "bash: line 3: ./regresion: No such file or directory\n"
          ]
        },
        {
          "ename": "CalledProcessError",
          "evalue": "ignored",
          "output_type": "error",
          "traceback": [
            "\u001b[0;31m---------------------------------------------------------------------------\u001b[0m",
            "\u001b[0;31mCalledProcessError\u001b[0m                        Traceback (most recent call last)",
            "\u001b[0;32m<ipython-input-26-73951a6343ed>\u001b[0m in \u001b[0;36m<cell line: 1>\u001b[0;34m()\u001b[0m\n\u001b[0;32m----> 1\u001b[0;31m \u001b[0mget_ipython\u001b[0m\u001b[0;34m(\u001b[0m\u001b[0;34m)\u001b[0m\u001b[0;34m.\u001b[0m\u001b[0mrun_cell_magic\u001b[0m\u001b[0;34m(\u001b[0m\u001b[0;34m'script'\u001b[0m\u001b[0;34m,\u001b[0m \u001b[0;34m'bash'\u001b[0m\u001b[0;34m,\u001b[0m \u001b[0;34m'\\ng++ regresion.cpp -o regresion\\n./regresion\\n'\u001b[0m\u001b[0;34m)\u001b[0m\u001b[0;34m\u001b[0m\u001b[0;34m\u001b[0m\u001b[0m\n\u001b[0m",
            "\u001b[0;32m/usr/local/lib/python3.9/dist-packages/google/colab/_shell.py\u001b[0m in \u001b[0;36mrun_cell_magic\u001b[0;34m(self, magic_name, line, cell)\u001b[0m\n\u001b[1;32m    332\u001b[0m     \u001b[0;32mif\u001b[0m \u001b[0mline\u001b[0m \u001b[0;32mand\u001b[0m \u001b[0;32mnot\u001b[0m \u001b[0mcell\u001b[0m\u001b[0;34m:\u001b[0m\u001b[0;34m\u001b[0m\u001b[0;34m\u001b[0m\u001b[0m\n\u001b[1;32m    333\u001b[0m       \u001b[0mcell\u001b[0m \u001b[0;34m=\u001b[0m \u001b[0;34m' '\u001b[0m\u001b[0;34m\u001b[0m\u001b[0;34m\u001b[0m\u001b[0m\n\u001b[0;32m--> 334\u001b[0;31m     \u001b[0;32mreturn\u001b[0m \u001b[0msuper\u001b[0m\u001b[0;34m(\u001b[0m\u001b[0;34m)\u001b[0m\u001b[0;34m.\u001b[0m\u001b[0mrun_cell_magic\u001b[0m\u001b[0;34m(\u001b[0m\u001b[0mmagic_name\u001b[0m\u001b[0;34m,\u001b[0m \u001b[0mline\u001b[0m\u001b[0;34m,\u001b[0m \u001b[0mcell\u001b[0m\u001b[0;34m)\u001b[0m\u001b[0;34m\u001b[0m\u001b[0;34m\u001b[0m\u001b[0m\n\u001b[0m\u001b[1;32m    335\u001b[0m \u001b[0;34m\u001b[0m\u001b[0m\n\u001b[1;32m    336\u001b[0m \u001b[0;34m\u001b[0m\u001b[0m\n",
            "\u001b[0;32m/usr/local/lib/python3.9/dist-packages/IPython/core/interactiveshell.py\u001b[0m in \u001b[0;36mrun_cell_magic\u001b[0;34m(self, magic_name, line, cell)\u001b[0m\n\u001b[1;32m   2471\u001b[0m             \u001b[0;32mwith\u001b[0m \u001b[0mself\u001b[0m\u001b[0;34m.\u001b[0m\u001b[0mbuiltin_trap\u001b[0m\u001b[0;34m:\u001b[0m\u001b[0;34m\u001b[0m\u001b[0;34m\u001b[0m\u001b[0m\n\u001b[1;32m   2472\u001b[0m                 \u001b[0margs\u001b[0m \u001b[0;34m=\u001b[0m \u001b[0;34m(\u001b[0m\u001b[0mmagic_arg_s\u001b[0m\u001b[0;34m,\u001b[0m \u001b[0mcell\u001b[0m\u001b[0;34m)\u001b[0m\u001b[0;34m\u001b[0m\u001b[0;34m\u001b[0m\u001b[0m\n\u001b[0;32m-> 2473\u001b[0;31m                 \u001b[0mresult\u001b[0m \u001b[0;34m=\u001b[0m \u001b[0mfn\u001b[0m\u001b[0;34m(\u001b[0m\u001b[0;34m*\u001b[0m\u001b[0margs\u001b[0m\u001b[0;34m,\u001b[0m \u001b[0;34m**\u001b[0m\u001b[0mkwargs\u001b[0m\u001b[0;34m)\u001b[0m\u001b[0;34m\u001b[0m\u001b[0;34m\u001b[0m\u001b[0m\n\u001b[0m\u001b[1;32m   2474\u001b[0m             \u001b[0;32mreturn\u001b[0m \u001b[0mresult\u001b[0m\u001b[0;34m\u001b[0m\u001b[0;34m\u001b[0m\u001b[0m\n\u001b[1;32m   2475\u001b[0m \u001b[0;34m\u001b[0m\u001b[0m\n",
            "\u001b[0;32m<decorator-gen-103>\u001b[0m in \u001b[0;36mshebang\u001b[0;34m(self, line, cell)\u001b[0m\n",
            "\u001b[0;32m/usr/local/lib/python3.9/dist-packages/IPython/core/magic.py\u001b[0m in \u001b[0;36m<lambda>\u001b[0;34m(f, *a, **k)\u001b[0m\n\u001b[1;32m    185\u001b[0m     \u001b[0;31m# but it's overkill for just that one bit of state.\u001b[0m\u001b[0;34m\u001b[0m\u001b[0;34m\u001b[0m\u001b[0m\n\u001b[1;32m    186\u001b[0m     \u001b[0;32mdef\u001b[0m \u001b[0mmagic_deco\u001b[0m\u001b[0;34m(\u001b[0m\u001b[0marg\u001b[0m\u001b[0;34m)\u001b[0m\u001b[0;34m:\u001b[0m\u001b[0;34m\u001b[0m\u001b[0;34m\u001b[0m\u001b[0m\n\u001b[0;32m--> 187\u001b[0;31m         \u001b[0mcall\u001b[0m \u001b[0;34m=\u001b[0m \u001b[0;32mlambda\u001b[0m \u001b[0mf\u001b[0m\u001b[0;34m,\u001b[0m \u001b[0;34m*\u001b[0m\u001b[0ma\u001b[0m\u001b[0;34m,\u001b[0m \u001b[0;34m**\u001b[0m\u001b[0mk\u001b[0m\u001b[0;34m:\u001b[0m \u001b[0mf\u001b[0m\u001b[0;34m(\u001b[0m\u001b[0;34m*\u001b[0m\u001b[0ma\u001b[0m\u001b[0;34m,\u001b[0m \u001b[0;34m**\u001b[0m\u001b[0mk\u001b[0m\u001b[0;34m)\u001b[0m\u001b[0;34m\u001b[0m\u001b[0;34m\u001b[0m\u001b[0m\n\u001b[0m\u001b[1;32m    188\u001b[0m \u001b[0;34m\u001b[0m\u001b[0m\n\u001b[1;32m    189\u001b[0m         \u001b[0;32mif\u001b[0m \u001b[0mcallable\u001b[0m\u001b[0;34m(\u001b[0m\u001b[0marg\u001b[0m\u001b[0;34m)\u001b[0m\u001b[0;34m:\u001b[0m\u001b[0;34m\u001b[0m\u001b[0;34m\u001b[0m\u001b[0m\n",
            "\u001b[0;32m/usr/local/lib/python3.9/dist-packages/IPython/core/magics/script.py\u001b[0m in \u001b[0;36mshebang\u001b[0;34m(self, line, cell)\u001b[0m\n\u001b[1;32m    243\u001b[0m             \u001b[0msys\u001b[0m\u001b[0;34m.\u001b[0m\u001b[0mstderr\u001b[0m\u001b[0;34m.\u001b[0m\u001b[0mflush\u001b[0m\u001b[0;34m(\u001b[0m\u001b[0;34m)\u001b[0m\u001b[0;34m\u001b[0m\u001b[0;34m\u001b[0m\u001b[0m\n\u001b[1;32m    244\u001b[0m         \u001b[0;32mif\u001b[0m \u001b[0margs\u001b[0m\u001b[0;34m.\u001b[0m\u001b[0mraise_error\u001b[0m \u001b[0;32mand\u001b[0m \u001b[0mp\u001b[0m\u001b[0;34m.\u001b[0m\u001b[0mreturncode\u001b[0m\u001b[0;34m!=\u001b[0m\u001b[0;36m0\u001b[0m\u001b[0;34m:\u001b[0m\u001b[0;34m\u001b[0m\u001b[0;34m\u001b[0m\u001b[0m\n\u001b[0;32m--> 245\u001b[0;31m             \u001b[0;32mraise\u001b[0m \u001b[0mCalledProcessError\u001b[0m\u001b[0;34m(\u001b[0m\u001b[0mp\u001b[0m\u001b[0;34m.\u001b[0m\u001b[0mreturncode\u001b[0m\u001b[0;34m,\u001b[0m \u001b[0mcell\u001b[0m\u001b[0;34m,\u001b[0m \u001b[0moutput\u001b[0m\u001b[0;34m=\u001b[0m\u001b[0mout\u001b[0m\u001b[0;34m,\u001b[0m \u001b[0mstderr\u001b[0m\u001b[0;34m=\u001b[0m\u001b[0merr\u001b[0m\u001b[0;34m)\u001b[0m\u001b[0;34m\u001b[0m\u001b[0;34m\u001b[0m\u001b[0m\n\u001b[0m\u001b[1;32m    246\u001b[0m \u001b[0;34m\u001b[0m\u001b[0m\n\u001b[1;32m    247\u001b[0m     \u001b[0;32mdef\u001b[0m \u001b[0m_run_script\u001b[0m\u001b[0;34m(\u001b[0m\u001b[0mself\u001b[0m\u001b[0;34m,\u001b[0m \u001b[0mp\u001b[0m\u001b[0;34m,\u001b[0m \u001b[0mcell\u001b[0m\u001b[0;34m,\u001b[0m \u001b[0mto_close\u001b[0m\u001b[0;34m)\u001b[0m\u001b[0;34m:\u001b[0m\u001b[0;34m\u001b[0m\u001b[0;34m\u001b[0m\u001b[0m\n",
            "\u001b[0;31mCalledProcessError\u001b[0m: Command 'b'\\ng++ regresion.cpp -o regresion\\n./regresion\\n'' returned non-zero exit status 127."
          ]
        }
      ],
      "source": [
        "%%script bash\n",
        "\n",
        "g++ regresion.cpp -o regresion\n",
        "./regresion"
      ]
    },
    {
      "cell_type": "markdown",
      "metadata": {
        "id": "xWbz0ud79j38"
      },
      "source": [
        "## Problema 2\n",
        "\n",
        "Cree una función en `C++`, que tenga la siguiente firma: \n",
        "\n",
        "`void sort(int* ptrA, int* ptrB, int* ptrC)`\n",
        "\n",
        "la cual dados tres punteros de enteros reasigne los valores de `a`, `b`, y `c`, de menor a mayor, es decir, `a` sería el menor, `b` sería el del medio, y `c` sería el mayor. Pueden haber también enteros iguales.\n",
        "\n",
        "No modifique la parte de la función `main()` que realiza los casos de prueba como se encuentra en el archivo."
      ]
    },
    {
      "cell_type": "code",
      "execution_count": null,
      "metadata": {
        "colab": {
          "base_uri": "https://localhost:8080/"
        },
        "id": "5jChkoGd-UQW",
        "outputId": "9d6b2266-ebc2-49fa-dadc-6401e9183ed7",
        "vscode": {
          "languageId": "python"
        }
      },
      "outputs": [
        {
          "name": "stdout",
          "output_type": "stream",
          "text": [
            "Overwriting sort.cpp\n"
          ]
        }
      ],
      "source": [
        "%%writefile sort.cpp\n",
        "\n",
        "#include <iostream>\n",
        "#include <string>\n",
        "using namespace std;\n",
        "\n",
        "void sort(int* ptrA, int* ptrB, int* ptrC)\n",
        "{\n",
        "    if (*ptrA > *ptrB) {\n",
        "        int temp = *ptrA;\n",
        "        *ptrA = *ptrB;\n",
        "        *ptrB = temp;\n",
        "    }\n",
        "    if (*ptrA > *ptrC) {\n",
        "        int temp = *ptrA;\n",
        "        *ptrA = *ptrC;\n",
        "        *ptrC = temp;\n",
        "    }\n",
        "    if (*ptrB > *ptrC) {\n",
        "        int temp = *ptrB;\n",
        "        *ptrB = *ptrC;\n",
        "        *ptrC = temp;\n",
        "    }\n",
        "}\n",
        "\n",
        "int main() {\n",
        "\n",
        "    int a = 5, b = 3, c = 4;\n",
        "    cout << \"Initial Numbers\" << endl;\n",
        "    cout << a << \" \" << b << \" \" << c << endl;\n",
        "    cout << \"Sorting: \" << endl;\n",
        "    sort(&a, &b, &c);\n",
        "    cout << a << \" \" << b << \" \" << c << endl;\n",
        "\n",
        "    int d = 500, e = 300, f = 150;\n",
        "    cout << \"Initial Numbers\" << endl;\n",
        "    cout << d << \" \" << e << \" \" << f << endl;\n",
        "    cout << \"Sorting: \" << endl;\n",
        "    sort(&d, &e, &f);\n",
        "    cout << d << \" \" << e << \" \" << f << endl;\n",
        "\n",
        "    int g = 156, h = 121, i = 121;\n",
        "    cout << \"Initial Numbers\" << endl;\n",
        "    cout << g << \" \" << h << \" \" << i << endl;\n",
        "    cout << \"Sorting: \" << endl;\n",
        "    sort(&g, &h, &i);\n",
        "    cout << g << \" \" << h << \" \" << i << endl;\n",
        "\n",
        "    int j = 102, k = 105, l = 221;\n",
        "    cout << \"Initial Numbers\" << endl;\n",
        "    cout << j << \" \" << k << \" \" << l << endl;\n",
        "    cout << \"Sorting: \" << endl;\n",
        "    sort(&j, &k, &l);\n",
        "    cout << j << \" \" << k << \" \" << l << endl;\n",
        "\n",
        "    return 0;\n",
        "}\n"
      ]
    },
    {
      "cell_type": "code",
      "execution_count": null,
      "metadata": {
        "colab": {
          "base_uri": "https://localhost:8080/"
        },
        "id": "KaOtxtslP-Ti",
        "outputId": "3c116856-e861-400a-fde2-861ffad69fcf",
        "vscode": {
          "languageId": "python"
        }
      },
      "outputs": [
        {
          "name": "stdout",
          "output_type": "stream",
          "text": [
            "Initial Numbers\n",
            "5 3 4\n",
            "Sorting: \n",
            "3 4 5\n",
            "Initial Numbers\n",
            "500 300 150\n",
            "Sorting: \n",
            "150 300 500\n",
            "Initial Numbers\n",
            "156 121 121\n",
            "Sorting: \n",
            "121 121 156\n",
            "Initial Numbers\n",
            "102 105 221\n",
            "Sorting: \n",
            "102 105 221\n"
          ]
        }
      ],
      "source": [
        "%%script bash\n",
        "\n",
        "g++ sort.cpp -o sort\n",
        "./sort"
      ]
    }
  ],
  "metadata": {
    "colab": {
      "provenance": []
    },
    "kernelspec": {
      "display_name": "Python 3",
      "name": "python3"
    }
  },
  "nbformat": 4,
  "nbformat_minor": 0
}
